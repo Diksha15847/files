{
 "cells": [
  {
   "cell_type": "code",
   "execution_count": 7,
   "id": "437da632-3687-4ab6-b955-5791ba44f603",
   "metadata": {},
   "outputs": [
    {
     "name": "stdout",
     "output_type": "stream",
     "text": [
      "Defaulting to user installation because normal site-packages is not writeable\n",
      "Requirement already satisfied: mysql-connector-python in c:\\users\\diksh\\appdata\\roaming\\python\\python312\\site-packages (9.3.0)\n"
     ]
    }
   ],
   "source": [
    "!pip install mysql-connector-python\n"
   ]
  },
  {
   "cell_type": "code",
   "execution_count": null,
   "id": "fbc41b33-c5bc-476f-bcab-d9183d767f39",
   "metadata": {},
   "outputs": [],
   "source": []
  },
  {
   "cell_type": "code",
   "execution_count": null,
   "id": "3472f7ec-8736-4c44-9fe9-5024ceb2b34a",
   "metadata": {},
   "outputs": [],
   "source": [
    "pip install seaborn"
   ]
  },
  {
   "cell_type": "code",
   "execution_count": 16,
   "id": "37e7132f-cd0c-4b9f-b58f-90ecea74555c",
   "metadata": {},
   "outputs": [],
   "source": [
    "import pandas as pd\n",
    "import numpy as np\n",
    "import matplotlib.pyplot as plt\n",
    "import seaborn as sns\n",
    "import mysql.connector\n",
    "\n",
    "db=mysql.connector.connect(host=\"127.0.0.1\",username=\"root\",password=\"root\",database=\"ecommerce\")\n",
    "cur=db.cursor()"
   ]
  },
  {
   "cell_type": "markdown",
   "id": "21006d62-557b-4447-a992-d2ea43990554",
   "metadata": {},
   "source": [
    "# List all unique cities where customers are located. \n"
   ]
  },
  {
   "cell_type": "code",
   "execution_count": 22,
   "id": "0ede7f15-fc64-4bd0-a290-c6c120f92ae0",
   "metadata": {},
   "outputs": [
    {
     "data": {
      "text/html": [
       "<div>\n",
       "<style scoped>\n",
       "    .dataframe tbody tr th:only-of-type {\n",
       "        vertical-align: middle;\n",
       "    }\n",
       "\n",
       "    .dataframe tbody tr th {\n",
       "        vertical-align: top;\n",
       "    }\n",
       "\n",
       "    .dataframe thead th {\n",
       "        text-align: right;\n",
       "    }\n",
       "</style>\n",
       "<table border=\"1\" class=\"dataframe\">\n",
       "  <thead>\n",
       "    <tr style=\"text-align: right;\">\n",
       "      <th></th>\n",
       "      <th>customer_city</th>\n",
       "    </tr>\n",
       "  </thead>\n",
       "  <tbody>\n",
       "    <tr>\n",
       "      <th>0</th>\n",
       "      <td>franca</td>\n",
       "    </tr>\n",
       "    <tr>\n",
       "      <th>1</th>\n",
       "      <td>sao bernardo do campo</td>\n",
       "    </tr>\n",
       "    <tr>\n",
       "      <th>2</th>\n",
       "      <td>sao paulo</td>\n",
       "    </tr>\n",
       "    <tr>\n",
       "      <th>3</th>\n",
       "      <td>mogi das cruzes</td>\n",
       "    </tr>\n",
       "    <tr>\n",
       "      <th>4</th>\n",
       "      <td>campinas</td>\n",
       "    </tr>\n",
       "    <tr>\n",
       "      <th>...</th>\n",
       "      <td>...</td>\n",
       "    </tr>\n",
       "    <tr>\n",
       "      <th>4114</th>\n",
       "      <td>siriji</td>\n",
       "    </tr>\n",
       "    <tr>\n",
       "      <th>4115</th>\n",
       "      <td>natividade da serra</td>\n",
       "    </tr>\n",
       "    <tr>\n",
       "      <th>4116</th>\n",
       "      <td>monte bonito</td>\n",
       "    </tr>\n",
       "    <tr>\n",
       "      <th>4117</th>\n",
       "      <td>sao rafael</td>\n",
       "    </tr>\n",
       "    <tr>\n",
       "      <th>4118</th>\n",
       "      <td>eugenio de castro</td>\n",
       "    </tr>\n",
       "  </tbody>\n",
       "</table>\n",
       "<p>4119 rows × 1 columns</p>\n",
       "</div>"
      ],
      "text/plain": [
       "              customer_city\n",
       "0                    franca\n",
       "1     sao bernardo do campo\n",
       "2                 sao paulo\n",
       "3           mogi das cruzes\n",
       "4                  campinas\n",
       "...                     ...\n",
       "4114                 siriji\n",
       "4115    natividade da serra\n",
       "4116           monte bonito\n",
       "4117             sao rafael\n",
       "4118      eugenio de castro\n",
       "\n",
       "[4119 rows x 1 columns]"
      ]
     },
     "execution_count": 22,
     "metadata": {},
     "output_type": "execute_result"
    }
   ],
   "source": [
    "query = \"\"\" select distinct customer_city from customers \"\"\"\n",
    "cur.execute(query)\n",
    "data=cur.fetchall()\n",
    "df=pd.DataFrame(data,columns=['customer_city'])\n",
    "df"
   ]
  },
  {
   "cell_type": "markdown",
   "id": "5af70d02-9794-4735-a2e6-03812fac0208",
   "metadata": {},
   "source": [
    "# Count the number of orders placed in 2017."
   ]
  },
  {
   "cell_type": "code",
   "execution_count": 5,
   "id": "1c6e8bfc-beb6-4231-8d70-ea777c591fa4",
   "metadata": {},
   "outputs": [
    {
     "data": {
      "text/plain": [
       "('total order placed in 2017', 270606)"
      ]
     },
     "execution_count": 5,
     "metadata": {},
     "output_type": "execute_result"
    }
   ],
   "source": [
    "query = \"\"\" select count(order_id) from orders where year(order_purchase_timestamp)=2017 \"\"\"\n",
    "cur.execute(query)\n",
    "data=cur.fetchall()\n",
    "\"total order placed in 2017\",data [0][0]   # 0 index of data and again index "
   ]
  },
  {
   "cell_type": "markdown",
   "id": "0a5b6521-25dc-4d45-bcf8-9b23cef3d7ce",
   "metadata": {},
   "source": [
    "# Find the total sales per category."
   ]
  },
  {
   "cell_type": "code",
   "execution_count": 24,
   "id": "e559488f-5195-4990-956d-50366dc3b560",
   "metadata": {},
   "outputs": [
    {
     "data": {
      "text/html": [
       "<div>\n",
       "<style scoped>\n",
       "    .dataframe tbody tr th:only-of-type {\n",
       "        vertical-align: middle;\n",
       "    }\n",
       "\n",
       "    .dataframe tbody tr th {\n",
       "        vertical-align: top;\n",
       "    }\n",
       "\n",
       "    .dataframe thead th {\n",
       "        text-align: right;\n",
       "    }\n",
       "</style>\n",
       "<table border=\"1\" class=\"dataframe\">\n",
       "  <thead>\n",
       "    <tr style=\"text-align: right;\">\n",
       "      <th></th>\n",
       "      <th>product_category</th>\n",
       "      <th>sales</th>\n",
       "    </tr>\n",
       "  </thead>\n",
       "  <tbody>\n",
       "    <tr>\n",
       "      <th>0</th>\n",
       "      <td>Art</td>\n",
       "      <td>743830.32</td>\n",
       "    </tr>\n",
       "    <tr>\n",
       "      <th>1</th>\n",
       "      <td>Cool Stuff</td>\n",
       "      <td>18712752.00</td>\n",
       "    </tr>\n",
       "    <tr>\n",
       "      <th>2</th>\n",
       "      <td>Games consoles</td>\n",
       "      <td>4691529.10</td>\n",
       "    </tr>\n",
       "    <tr>\n",
       "      <th>3</th>\n",
       "      <td>telephony</td>\n",
       "      <td>11685169.22</td>\n",
       "    </tr>\n",
       "    <tr>\n",
       "      <th>4</th>\n",
       "      <td>sport leisure</td>\n",
       "      <td>33411061.42</td>\n",
       "    </tr>\n",
       "    <tr>\n",
       "      <th>...</th>\n",
       "      <td>...</td>\n",
       "      <td>...</td>\n",
       "    </tr>\n",
       "    <tr>\n",
       "      <th>69</th>\n",
       "      <td>cds music dvds</td>\n",
       "      <td>28786.32</td>\n",
       "    </tr>\n",
       "    <tr>\n",
       "      <th>70</th>\n",
       "      <td>La Cuisine</td>\n",
       "      <td>69924.72</td>\n",
       "    </tr>\n",
       "    <tr>\n",
       "      <th>71</th>\n",
       "      <td>Fashion Children's Clothing</td>\n",
       "      <td>18856.08</td>\n",
       "    </tr>\n",
       "    <tr>\n",
       "      <th>72</th>\n",
       "      <td>PC Gamer</td>\n",
       "      <td>52186.32</td>\n",
       "    </tr>\n",
       "    <tr>\n",
       "      <th>73</th>\n",
       "      <td>insurance and services</td>\n",
       "      <td>7788.24</td>\n",
       "    </tr>\n",
       "  </tbody>\n",
       "</table>\n",
       "<p>74 rows × 2 columns</p>\n",
       "</div>"
      ],
      "text/plain": [
       "               product_category        sales\n",
       "0                           Art    743830.32\n",
       "1                    Cool Stuff  18712752.00\n",
       "2                Games consoles   4691529.10\n",
       "3                     telephony  11685169.22\n",
       "4                 sport leisure  33411061.42\n",
       "..                          ...          ...\n",
       "69               cds music dvds     28786.32\n",
       "70                   La Cuisine     69924.72\n",
       "71  Fashion Children's Clothing     18856.08\n",
       "72                     PC Gamer     52186.32\n",
       "73       insurance and services      7788.24\n",
       "\n",
       "[74 rows x 2 columns]"
      ]
     },
     "execution_count": 24,
     "metadata": {},
     "output_type": "execute_result"
    }
   ],
   "source": [
    "query=\"\"\" select p.product_category,round(sum(pmt.payment_value),2) sales from products as p join orders_items as ot \n",
    "on ot.product_id=p.product_id\n",
    "join payments as pmt on pmt.order_id=ot.order_id group by p.product_category \"\"\"\n",
    "cur.execute(query)\n",
    "data=cur.fetchall()\n",
    "df=pd.DataFrame(data,columns=['product_category','sales'])\n",
    "df\n"
   ]
  },
  {
   "cell_type": "markdown",
   "id": "741bac14-6218-4798-8909-9b03b0974d58",
   "metadata": {},
   "source": [
    "# Calculate the percentage of orders that were paid in installments"
   ]
  },
  {
   "cell_type": "code",
   "execution_count": 31,
   "id": "b74022d4-ae35-4423-9d1a-cb2a93948f93",
   "metadata": {},
   "outputs": [
    {
     "data": {
      "text/plain": [
       "Decimal('99.9981')"
      ]
     },
     "execution_count": 31,
     "metadata": {},
     "output_type": "execute_result"
    }
   ],
   "source": [
    "query=\"\"\" select (sum(case when payment_installments>=1 then 1 else 0 end ))/count(*)*100 from payments \"\"\"\n",
    "cur.execute(query)\n",
    "data=cur.fetchall()\n",
    "data[0][0]"
   ]
  },
  {
   "cell_type": "markdown",
   "id": "f9b3b2d6-9906-48e9-844c-dee9096e6d3c",
   "metadata": {},
   "source": [
    "# Count the number of customers from each state. "
   ]
  },
  {
   "cell_type": "code",
   "execution_count": 45,
   "id": "359d4174-117d-4764-ad8c-ed1555bb9baf",
   "metadata": {},
   "outputs": [
    {
     "data": {
      "image/png": "[encoded data removed]",
      "text/plain": [
       "<Figure size 900x400 with 1 Axes>"
      ]
     },
     "metadata": {},
     "output_type": "display_data"
    }
   ],
   "source": [
    "query=\"\"\" select customer_state,count(customer_id) from customers group by customer_state \"\"\"\n",
    "cur.execute(query)\n",
    "data=cur.fetchall()\n",
    "dataframe=pd.DataFrame(data,columns=['state','customer_count'])\n",
    "dataframe=dataframe.sort_values(by=\"customer_count\", ascending=False)\n",
    "dataframe\n",
    "\n",
    "plt.figure(figsize=(9,4))\n",
    "plt.bar(dataframe['state'],dataframe['customer_count'])\n",
    "plt.xticks(rotation=90)\n",
    "plt.show()"
   ]
  },
  {
   "cell_type": "markdown",
   "id": "2ad28d11-4ea6-4d42-8524-b382d17b2166",
   "metadata": {},
   "source": [
    "# Calculate the number of orders per month in 2018."
   ]
  },
  {
   "cell_type": "code",
   "execution_count": 122,
   "id": "9fc0e465-28a0-4f05-bac0-c9c9843d4df3",
   "metadata": {},
   "outputs": [
    {
     "data": {
      "image/png": "[encoded data removed]",
      "text/plain": [
       "<Figure size 640x480 with 1 Axes>"
      ]
     },
     "metadata": {},
     "output_type": "display_data"
    }
   ],
   "source": [
    "query=\"\"\" select monthname(order_purchase_timestamp) as months,count(order_id) as total_order from orders where year(order_purchase_timestamp)=2018 \n",
    "group by monthname(order_purchase_timestamp) \"\"\"\n",
    "cur.execute(query)\n",
    "data=cur.fetchall()\n",
    "df=pd.DataFrame(data,columns=[\"months\",\"total_order\"])\n",
    "o=['January','February','March','April','May','June','July','August','September','October','November','Descember']\n",
    "\n",
    "\n",
    "\n",
    "ax=sns.barplot(x=df['months'],y=df['total_order'],data=df,order=o,color='blue')\n",
    "plt.xticks(rotation=45)\n",
    "ax.bar_label(ax.containers[0])\n",
    "plt.title(\"count orders by months\")\n",
    "plt.show()\n"
   ]
  },
  {
   "cell_type": "markdown",
   "id": "c6f30a1e-f0b8-4b74-b9ca-3af438e2c1ae",
   "metadata": {},
   "source": [
    "# Find the average number of products per order, grouped by customer city."
   ]
  },
  {
   "cell_type": "code",
   "execution_count": 49,
   "id": "8a1b6c32-ea5f-432e-8adb-5a1e1d1c0378",
   "metadata": {},
   "outputs": [
    {
     "data": {
      "text/html": [
       "<div>\n",
       "<style scoped>\n",
       "    .dataframe tbody tr th:only-of-type {\n",
       "        vertical-align: middle;\n",
       "    }\n",
       "\n",
       "    .dataframe tbody tr th {\n",
       "        vertical-align: top;\n",
       "    }\n",
       "\n",
       "    .dataframe thead th {\n",
       "        text-align: right;\n",
       "    }\n",
       "</style>\n",
       "<table border=\"1\" class=\"dataframe\">\n",
       "  <thead>\n",
       "    <tr style=\"text-align: right;\">\n",
       "      <th></th>\n",
       "      <th>customer_city</th>\n",
       "      <th>avg_order</th>\n",
       "    </tr>\n",
       "  </thead>\n",
       "  <tbody>\n",
       "    <tr>\n",
       "      <th>0</th>\n",
       "      <td>treze tilias</td>\n",
       "      <td>22.91</td>\n",
       "    </tr>\n",
       "    <tr>\n",
       "      <th>1</th>\n",
       "      <td>indaial</td>\n",
       "      <td>20.08</td>\n",
       "    </tr>\n",
       "    <tr>\n",
       "      <th>2</th>\n",
       "      <td>sao jose dos campos</td>\n",
       "      <td>20.49</td>\n",
       "    </tr>\n",
       "    <tr>\n",
       "      <th>3</th>\n",
       "      <td>sao paulo</td>\n",
       "      <td>20.81</td>\n",
       "    </tr>\n",
       "    <tr>\n",
       "      <th>4</th>\n",
       "      <td>porto alegre</td>\n",
       "      <td>21.15</td>\n",
       "    </tr>\n",
       "    <tr>\n",
       "      <th>...</th>\n",
       "      <td>...</td>\n",
       "      <td>...</td>\n",
       "    </tr>\n",
       "    <tr>\n",
       "      <th>4105</th>\n",
       "      <td>tibau do sul</td>\n",
       "      <td>18.00</td>\n",
       "    </tr>\n",
       "    <tr>\n",
       "      <th>4106</th>\n",
       "      <td>sao mamede</td>\n",
       "      <td>18.00</td>\n",
       "    </tr>\n",
       "    <tr>\n",
       "      <th>4107</th>\n",
       "      <td>guairaca</td>\n",
       "      <td>36.00</td>\n",
       "    </tr>\n",
       "    <tr>\n",
       "      <th>4108</th>\n",
       "      <td>sambaiba</td>\n",
       "      <td>18.00</td>\n",
       "    </tr>\n",
       "    <tr>\n",
       "      <th>4109</th>\n",
       "      <td>japaratuba</td>\n",
       "      <td>18.00</td>\n",
       "    </tr>\n",
       "  </tbody>\n",
       "</table>\n",
       "<p>4110 rows × 2 columns</p>\n",
       "</div>"
      ],
      "text/plain": [
       "            customer_city avg_order\n",
       "0            treze tilias     22.91\n",
       "1                 indaial     20.08\n",
       "2     sao jose dos campos     20.49\n",
       "3               sao paulo     20.81\n",
       "4            porto alegre     21.15\n",
       "...                   ...       ...\n",
       "4105         tibau do sul     18.00\n",
       "4106           sao mamede     18.00\n",
       "4107             guairaca     36.00\n",
       "4108             sambaiba     18.00\n",
       "4109           japaratuba     18.00\n",
       "\n",
       "[4110 rows x 2 columns]"
      ]
     },
     "execution_count": 49,
     "metadata": {},
     "output_type": "execute_result"
    }
   ],
   "source": [
    "query=\"\"\" with count_per_order as(select orders.order_id,orders.customer_id,count(order_items.order_id) as oc from orders join order_items\n",
    "on orders.order_id=order_items.order_id group by orders.order_id,orders.customer_id)\n",
    "select customers.customer_city, round(avg(count_per_order.oc),2) avg_orders from customers join count_per_order on customers.customer_id\n",
    "=count_per_order.customer_id group by customers.customer_city \"\"\"\n",
    "cur.execute(query)\n",
    "df=cur.fetchall()\n",
    "pd.DataFrame(df,columns=['customer_city','avg_order'])"
   ]
  },
  {
   "cell_type": "markdown",
   "id": "bc4e302c-9876-4b52-a89c-7fd7f77664ed",
   "metadata": {},
   "source": [
    "# Calculate the percentage of total revenue contributed by each product category."
   ]
  },
  {
   "cell_type": "code",
   "execution_count": 160,
   "id": "413e6e9d-a6b3-4c0d-a28c-71e962a50735",
   "metadata": {
    "scrolled": true
   },
   "outputs": [
    {
     "data": {
      "text/html": [
       "<div>\n",
       "<style scoped>\n",
       "    .dataframe tbody tr th:only-of-type {\n",
       "        vertical-align: middle;\n",
       "    }\n",
       "\n",
       "    .dataframe tbody tr th {\n",
       "        vertical-align: top;\n",
       "    }\n",
       "\n",
       "    .dataframe thead th {\n",
       "        text-align: right;\n",
       "    }\n",
       "</style>\n",
       "<table border=\"1\" class=\"dataframe\">\n",
       "  <thead>\n",
       "    <tr style=\"text-align: right;\">\n",
       "      <th></th>\n",
       "      <th>product</th>\n",
       "      <th>percentage_sale</th>\n",
       "    </tr>\n",
       "  </thead>\n",
       "  <tbody>\n",
       "    <tr>\n",
       "      <th>0</th>\n",
       "      <td>Art</td>\n",
       "      <td>0.77</td>\n",
       "    </tr>\n",
       "    <tr>\n",
       "      <th>1</th>\n",
       "      <td>Cool Stuff</td>\n",
       "      <td>19.48</td>\n",
       "    </tr>\n",
       "    <tr>\n",
       "      <th>2</th>\n",
       "      <td>Games consoles</td>\n",
       "      <td>4.88</td>\n",
       "    </tr>\n",
       "    <tr>\n",
       "      <th>3</th>\n",
       "      <td>telephony</td>\n",
       "      <td>12.17</td>\n",
       "    </tr>\n",
       "    <tr>\n",
       "      <th>4</th>\n",
       "      <td>sport leisure</td>\n",
       "      <td>34.78</td>\n",
       "    </tr>\n",
       "    <tr>\n",
       "      <th>...</th>\n",
       "      <td>...</td>\n",
       "      <td>...</td>\n",
       "    </tr>\n",
       "    <tr>\n",
       "      <th>69</th>\n",
       "      <td>cds music dvds</td>\n",
       "      <td>0.03</td>\n",
       "    </tr>\n",
       "    <tr>\n",
       "      <th>70</th>\n",
       "      <td>La Cuisine</td>\n",
       "      <td>0.07</td>\n",
       "    </tr>\n",
       "    <tr>\n",
       "      <th>71</th>\n",
       "      <td>Fashion Children's Clothing</td>\n",
       "      <td>0.02</td>\n",
       "    </tr>\n",
       "    <tr>\n",
       "      <th>72</th>\n",
       "      <td>PC Gamer</td>\n",
       "      <td>0.05</td>\n",
       "    </tr>\n",
       "    <tr>\n",
       "      <th>73</th>\n",
       "      <td>insurance and services</td>\n",
       "      <td>0.01</td>\n",
       "    </tr>\n",
       "  </tbody>\n",
       "</table>\n",
       "<p>74 rows × 2 columns</p>\n",
       "</div>"
      ],
      "text/plain": [
       "                        product  percentage_sale\n",
       "0                           Art             0.77\n",
       "1                    Cool Stuff            19.48\n",
       "2                Games consoles             4.88\n",
       "3                     telephony            12.17\n",
       "4                 sport leisure            34.78\n",
       "..                          ...              ...\n",
       "69               cds music dvds             0.03\n",
       "70                   La Cuisine             0.07\n",
       "71  Fashion Children's Clothing             0.02\n",
       "72                     PC Gamer             0.05\n",
       "73       insurance and services             0.01\n",
       "\n",
       "[74 rows x 2 columns]"
      ]
     },
     "execution_count": 160,
     "metadata": {},
     "output_type": "execute_result"
    }
   ],
   "source": [
    "query=\"\"\" select p.product_category,round(sum(pmt.payment_value)/(select sum(payment_value) from payments)*100,2)\n",
    "   sales from products as p join orders_items as ot \n",
    "on ot.product_id=p.product_id\n",
    "join payments as pmt on pmt.order_id=ot.order_id group by p.product_category \"\"\"\n",
    "\n",
    "cur.execute(query)\n",
    "df=cur.fetchall()\n",
    "data=pd.DataFrame(df,columns=['product','percentage_sale'])\n",
    "data"
   ]
  },
  {
   "cell_type": "markdown",
   "id": "061f5ae1-86af-455e-8e54-9f6dd6ffd30b",
   "metadata": {},
   "source": [
    "# Identify the correlation between product price and the number of times a product has been purchased"
   ]
  },
  {
   "cell_type": "code",
   "execution_count": 186,
   "id": "739ee991-c326-4d50-a643-550851cb97a3",
   "metadata": {
    "scrolled": true
   },
   "outputs": [
    {
     "name": "stdout",
     "output_type": "stream",
     "text": [
      "correlation value between order_count and avg_price is : -0.10631514167157566\n"
     ]
    }
   ],
   "source": [
    "import numpy as np\n",
    "query=\"\"\"select p.product_category,count(oi.product_id) as purchase,round(avg(oi.price),2) avg_price from order_items as oi join products as p on \n",
    "oi.product_id=p.product_id group by p.product_category\"\"\"\n",
    "cur.execute(query)\n",
    "data=cur.fetchall()\n",
    "df=pd.DataFrame(data,columns=['product_category','order_count','avg_price'])\n",
    "df\n",
    "\n",
    "arr1=df['order_count']\n",
    "arr2=df['avg_price']\n",
    "a=np.corrcoef([arr1,arr2]) # to chk order bada to price ghata ya order ghata to price bada \n",
    "print(\"correlation value between order_count and avg_price is :\",a[0][-1])"
   ]
  },
  {
   "cell_type": "markdown",
   "id": "34fb1d8d-bdb5-42f8-981f-a4966654d511",
   "metadata": {},
   "source": [
    "# Calculate the total revenue generated by each seller, and rank them by revenue."
   ]
  },
  {
   "cell_type": "code",
   "execution_count": 200,
   "id": "4e21ed71-d0f0-4b04-9c8c-04ccf2e5aa89",
   "metadata": {},
   "outputs": [
    {
     "data": {
      "image/png": "[encoded data removed]",
      "text/plain": [
       "<Figure size 640x480 with 1 Axes>"
      ]
     },
     "metadata": {},
     "output_type": "display_data"
    }
   ],
   "source": [
    "query=\"\"\"select *,dense_rank() over(order by total_revenue desc) as rank_revenue  from \n",
    " (select oi.seller_id,round(sum(p.payment_value),2) as total_revenue\n",
    " from order_items oi\n",
    " join payments p on oi.order_id=p.order_id group by oi.seller_id) as a;  \"\"\"\n",
    "cur.execute(query)\n",
    "data=cur.fetchall()\n",
    "df=pd.DataFrame(data,columns=['seller_id','total_revenue','rank_revenue'])\n",
    "df=df.head()\n",
    "sns.barplot(x=\"seller_id\",y=\"total_revenue\",data=df)\n",
    "plt.xticks(rotation=90)\n",
    "plt.show()"
   ]
  },
  {
   "cell_type": "markdown",
   "id": "92975317-c902-4575-b531-4c7de2ec8028",
   "metadata": {},
   "source": [
    "# Calculate the moving average of order values for each customer over their order history."
   ]
  },
  {
   "cell_type": "code",
   "execution_count": 214,
   "id": "7e381154-8227-48a1-b6bb-76d809be051c",
   "metadata": {},
   "outputs": [
    {
     "data": {
      "text/html": [
       "<div>\n",
       "<style scoped>\n",
       "    .dataframe tbody tr th:only-of-type {\n",
       "        vertical-align: middle;\n",
       "    }\n",
       "\n",
       "    .dataframe tbody tr th {\n",
       "        vertical-align: top;\n",
       "    }\n",
       "\n",
       "    .dataframe thead th {\n",
       "        text-align: right;\n",
       "    }\n",
       "</style>\n",
       "<table border=\"1\" class=\"dataframe\">\n",
       "  <thead>\n",
       "    <tr style=\"text-align: right;\">\n",
       "      <th></th>\n",
       "      <th>customer_id</th>\n",
       "      <th>order_purchase_timestamp</th>\n",
       "      <th>payment</th>\n",
       "      <th>mov_avg</th>\n",
       "    </tr>\n",
       "  </thead>\n",
       "  <tbody>\n",
       "    <tr>\n",
       "      <th>0</th>\n",
       "      <td>00012a2ce6f8dcda20d059ce98491703</td>\n",
       "      <td>2017-11-14 16:08:26</td>\n",
       "      <td>114.74</td>\n",
       "      <td>114.739998</td>\n",
       "    </tr>\n",
       "    <tr>\n",
       "      <th>1</th>\n",
       "      <td>00012a2ce6f8dcda20d059ce98491703</td>\n",
       "      <td>2017-11-14 16:08:26</td>\n",
       "      <td>114.74</td>\n",
       "      <td>114.739998</td>\n",
       "    </tr>\n",
       "    <tr>\n",
       "      <th>2</th>\n",
       "      <td>00012a2ce6f8dcda20d059ce98491703</td>\n",
       "      <td>2017-11-14 16:08:26</td>\n",
       "      <td>114.74</td>\n",
       "      <td>114.739998</td>\n",
       "    </tr>\n",
       "    <tr>\n",
       "      <th>3</th>\n",
       "      <td>00012a2ce6f8dcda20d059ce98491703</td>\n",
       "      <td>2017-11-14 16:08:26</td>\n",
       "      <td>114.74</td>\n",
       "      <td>114.739998</td>\n",
       "    </tr>\n",
       "    <tr>\n",
       "      <th>4</th>\n",
       "      <td>00012a2ce6f8dcda20d059ce98491703</td>\n",
       "      <td>2017-11-14 16:08:26</td>\n",
       "      <td>114.74</td>\n",
       "      <td>114.739998</td>\n",
       "    </tr>\n",
       "    <tr>\n",
       "      <th>...</th>\n",
       "      <td>...</td>\n",
       "      <td>...</td>\n",
       "      <td>...</td>\n",
       "      <td>...</td>\n",
       "    </tr>\n",
       "    <tr>\n",
       "      <th>60</th>\n",
       "      <td>0001fd6190edaaf884bcaf3d49edf079</td>\n",
       "      <td>2017-02-28 11:06:43</td>\n",
       "      <td>195.42</td>\n",
       "      <td>195.419998</td>\n",
       "    </tr>\n",
       "    <tr>\n",
       "      <th>61</th>\n",
       "      <td>0001fd6190edaaf884bcaf3d49edf079</td>\n",
       "      <td>2017-02-28 11:06:43</td>\n",
       "      <td>195.42</td>\n",
       "      <td>195.419998</td>\n",
       "    </tr>\n",
       "    <tr>\n",
       "      <th>62</th>\n",
       "      <td>0001fd6190edaaf884bcaf3d49edf079</td>\n",
       "      <td>2017-02-28 11:06:43</td>\n",
       "      <td>195.42</td>\n",
       "      <td>195.419998</td>\n",
       "    </tr>\n",
       "    <tr>\n",
       "      <th>63</th>\n",
       "      <td>0002414f95344307404f0ace7a26f1d5</td>\n",
       "      <td>2017-08-16 13:09:20</td>\n",
       "      <td>179.35</td>\n",
       "      <td>179.350006</td>\n",
       "    </tr>\n",
       "    <tr>\n",
       "      <th>64</th>\n",
       "      <td>0002414f95344307404f0ace7a26f1d5</td>\n",
       "      <td>2017-08-16 13:09:20</td>\n",
       "      <td>179.35</td>\n",
       "      <td>179.350006</td>\n",
       "    </tr>\n",
       "  </tbody>\n",
       "</table>\n",
       "<p>65 rows × 4 columns</p>\n",
       "</div>"
      ],
      "text/plain": [
       "                         customer_id order_purchase_timestamp  payment  \\\n",
       "0   00012a2ce6f8dcda20d059ce98491703      2017-11-14 16:08:26   114.74   \n",
       "1   00012a2ce6f8dcda20d059ce98491703      2017-11-14 16:08:26   114.74   \n",
       "2   00012a2ce6f8dcda20d059ce98491703      2017-11-14 16:08:26   114.74   \n",
       "3   00012a2ce6f8dcda20d059ce98491703      2017-11-14 16:08:26   114.74   \n",
       "4   00012a2ce6f8dcda20d059ce98491703      2017-11-14 16:08:26   114.74   \n",
       "..                               ...                      ...      ...   \n",
       "60  0001fd6190edaaf884bcaf3d49edf079      2017-02-28 11:06:43   195.42   \n",
       "61  0001fd6190edaaf884bcaf3d49edf079      2017-02-28 11:06:43   195.42   \n",
       "62  0001fd6190edaaf884bcaf3d49edf079      2017-02-28 11:06:43   195.42   \n",
       "63  0002414f95344307404f0ace7a26f1d5      2017-08-16 13:09:20   179.35   \n",
       "64  0002414f95344307404f0ace7a26f1d5      2017-08-16 13:09:20   179.35   \n",
       "\n",
       "       mov_avg  \n",
       "0   114.739998  \n",
       "1   114.739998  \n",
       "2   114.739998  \n",
       "3   114.739998  \n",
       "4   114.739998  \n",
       "..         ...  \n",
       "60  195.419998  \n",
       "61  195.419998  \n",
       "62  195.419998  \n",
       "63  179.350006  \n",
       "64  179.350006  \n",
       "\n",
       "[65 rows x 4 columns]"
      ]
     },
     "execution_count": 214,
     "metadata": {},
     "output_type": "execute_result"
    }
   ],
   "source": [
    "query=\"\"\" select customer_id,order_purchase_timestamp,payment,avg(payment) over(partition by customer_id order by \n",
    "order_purchase_timestamp rows between 2 preceding and current row) as mov_avg from\n",
    "(select orders.customer_id,orders.order_purchase_timestamp,payments.payment_value as payment from payments join orders \n",
    "on payments.order_id=orders.order_id) as a \"\"\"\n",
    "cur.execute(query)\n",
    "data=cur.fetchall()\n",
    "df=pd.DataFrame(data,columns=['customer_id','order_purchase_timestamp','payment','mov_avg'])\n",
    "df.head(65)"
   ]
  },
  {
   "cell_type": "markdown",
   "id": "06e9f01f-10ec-47da-b836-4223abd0695e",
   "metadata": {},
   "source": [
    "# Calculate the cumulative sales per month for each year."
   ]
  },
  {
   "cell_type": "code",
   "execution_count": 235,
   "id": "c9f20c4f-387a-48c8-acbd-93af8b75e133",
   "metadata": {},
   "outputs": [
    {
     "data": {
      "text/html": [
       "<div>\n",
       "<style scoped>\n",
       "    .dataframe tbody tr th:only-of-type {\n",
       "        vertical-align: middle;\n",
       "    }\n",
       "\n",
       "    .dataframe tbody tr th {\n",
       "        vertical-align: top;\n",
       "    }\n",
       "\n",
       "    .dataframe thead th {\n",
       "        text-align: right;\n",
       "    }\n",
       "</style>\n",
       "<table border=\"1\" class=\"dataframe\">\n",
       "  <thead>\n",
       "    <tr style=\"text-align: right;\">\n",
       "      <th></th>\n",
       "      <th>years</th>\n",
       "      <th>monts</th>\n",
       "      <th>payment</th>\n",
       "      <th>cum_sum</th>\n",
       "    </tr>\n",
       "  </thead>\n",
       "  <tbody>\n",
       "    <tr>\n",
       "      <th>0</th>\n",
       "      <td>2017</td>\n",
       "      <td>1</td>\n",
       "      <td>2908248.84</td>\n",
       "      <td>2.908249e+06</td>\n",
       "    </tr>\n",
       "    <tr>\n",
       "      <th>1</th>\n",
       "      <td>2018</td>\n",
       "      <td>1</td>\n",
       "      <td>23415087.76</td>\n",
       "      <td>2.632334e+07</td>\n",
       "    </tr>\n",
       "    <tr>\n",
       "      <th>2</th>\n",
       "      <td>2017</td>\n",
       "      <td>2</td>\n",
       "      <td>6130068.20</td>\n",
       "      <td>3.245340e+07</td>\n",
       "    </tr>\n",
       "    <tr>\n",
       "      <th>3</th>\n",
       "      <td>2018</td>\n",
       "      <td>2</td>\n",
       "      <td>20841730.14</td>\n",
       "      <td>5.329513e+07</td>\n",
       "    </tr>\n",
       "    <tr>\n",
       "      <th>4</th>\n",
       "      <td>2017</td>\n",
       "      <td>3</td>\n",
       "      <td>9447135.59</td>\n",
       "      <td>6.274227e+07</td>\n",
       "    </tr>\n",
       "    <tr>\n",
       "      <th>5</th>\n",
       "      <td>2018</td>\n",
       "      <td>3</td>\n",
       "      <td>24352694.51</td>\n",
       "      <td>8.709497e+07</td>\n",
       "    </tr>\n",
       "    <tr>\n",
       "      <th>6</th>\n",
       "      <td>2017</td>\n",
       "      <td>4</td>\n",
       "      <td>8773548.62</td>\n",
       "      <td>9.586851e+07</td>\n",
       "    </tr>\n",
       "    <tr>\n",
       "      <th>7</th>\n",
       "      <td>2018</td>\n",
       "      <td>4</td>\n",
       "      <td>24376495.09</td>\n",
       "      <td>1.202450e+08</td>\n",
       "    </tr>\n",
       "    <tr>\n",
       "      <th>8</th>\n",
       "      <td>2017</td>\n",
       "      <td>5</td>\n",
       "      <td>12451295.22</td>\n",
       "      <td>1.326963e+08</td>\n",
       "    </tr>\n",
       "    <tr>\n",
       "      <th>9</th>\n",
       "      <td>2018</td>\n",
       "      <td>5</td>\n",
       "      <td>24233625.17</td>\n",
       "      <td>1.569299e+08</td>\n",
       "    </tr>\n",
       "    <tr>\n",
       "      <th>10</th>\n",
       "      <td>2017</td>\n",
       "      <td>6</td>\n",
       "      <td>10736803.99</td>\n",
       "      <td>1.676667e+08</td>\n",
       "    </tr>\n",
       "    <tr>\n",
       "      <th>11</th>\n",
       "      <td>2018</td>\n",
       "      <td>6</td>\n",
       "      <td>21501490.52</td>\n",
       "      <td>1.891682e+08</td>\n",
       "    </tr>\n",
       "    <tr>\n",
       "      <th>12</th>\n",
       "      <td>2017</td>\n",
       "      <td>7</td>\n",
       "      <td>12440041.31</td>\n",
       "      <td>2.016083e+08</td>\n",
       "    </tr>\n",
       "    <tr>\n",
       "      <th>13</th>\n",
       "      <td>2018</td>\n",
       "      <td>7</td>\n",
       "      <td>22397355.73</td>\n",
       "      <td>2.240056e+08</td>\n",
       "    </tr>\n",
       "    <tr>\n",
       "      <th>14</th>\n",
       "      <td>2017</td>\n",
       "      <td>8</td>\n",
       "      <td>14162322.72</td>\n",
       "      <td>2.381679e+08</td>\n",
       "    </tr>\n",
       "    <tr>\n",
       "      <th>15</th>\n",
       "      <td>2018</td>\n",
       "      <td>8</td>\n",
       "      <td>21470931.75</td>\n",
       "      <td>2.596389e+08</td>\n",
       "    </tr>\n",
       "    <tr>\n",
       "      <th>16</th>\n",
       "      <td>2016</td>\n",
       "      <td>9</td>\n",
       "      <td>5297.04</td>\n",
       "      <td>2.596442e+08</td>\n",
       "    </tr>\n",
       "    <tr>\n",
       "      <th>17</th>\n",
       "      <td>2017</td>\n",
       "      <td>9</td>\n",
       "      <td>15283011.46</td>\n",
       "      <td>2.749272e+08</td>\n",
       "    </tr>\n",
       "    <tr>\n",
       "      <th>18</th>\n",
       "      <td>2018</td>\n",
       "      <td>9</td>\n",
       "      <td>93230.34</td>\n",
       "      <td>2.750204e+08</td>\n",
       "    </tr>\n",
       "    <tr>\n",
       "      <th>19</th>\n",
       "      <td>2016</td>\n",
       "      <td>10</td>\n",
       "      <td>1240900.08</td>\n",
       "      <td>2.762613e+08</td>\n",
       "    </tr>\n",
       "    <tr>\n",
       "      <th>20</th>\n",
       "      <td>2017</td>\n",
       "      <td>10</td>\n",
       "      <td>16373235.47</td>\n",
       "      <td>2.926345e+08</td>\n",
       "    </tr>\n",
       "    <tr>\n",
       "      <th>21</th>\n",
       "      <td>2018</td>\n",
       "      <td>10</td>\n",
       "      <td>12383.07</td>\n",
       "      <td>2.926469e+08</td>\n",
       "    </tr>\n",
       "    <tr>\n",
       "      <th>22</th>\n",
       "      <td>2017</td>\n",
       "      <td>11</td>\n",
       "      <td>25092538.79</td>\n",
       "      <td>3.177395e+08</td>\n",
       "    </tr>\n",
       "    <tr>\n",
       "      <th>23</th>\n",
       "      <td>2016</td>\n",
       "      <td>12</td>\n",
       "      <td>412.02</td>\n",
       "      <td>3.177399e+08</td>\n",
       "    </tr>\n",
       "    <tr>\n",
       "      <th>24</th>\n",
       "      <td>2017</td>\n",
       "      <td>12</td>\n",
       "      <td>18446431.08</td>\n",
       "      <td>3.361863e+08</td>\n",
       "    </tr>\n",
       "  </tbody>\n",
       "</table>\n",
       "</div>"
      ],
      "text/plain": [
       "    years  monts      payment       cum_sum\n",
       "0    2017      1   2908248.84  2.908249e+06\n",
       "1    2018      1  23415087.76  2.632334e+07\n",
       "2    2017      2   6130068.20  3.245340e+07\n",
       "3    2018      2  20841730.14  5.329513e+07\n",
       "4    2017      3   9447135.59  6.274227e+07\n",
       "5    2018      3  24352694.51  8.709497e+07\n",
       "6    2017      4   8773548.62  9.586851e+07\n",
       "7    2018      4  24376495.09  1.202450e+08\n",
       "8    2017      5  12451295.22  1.326963e+08\n",
       "9    2018      5  24233625.17  1.569299e+08\n",
       "10   2017      6  10736803.99  1.676667e+08\n",
       "11   2018      6  21501490.52  1.891682e+08\n",
       "12   2017      7  12440041.31  2.016083e+08\n",
       "13   2018      7  22397355.73  2.240056e+08\n",
       "14   2017      8  14162322.72  2.381679e+08\n",
       "15   2018      8  21470931.75  2.596389e+08\n",
       "16   2016      9      5297.04  2.596442e+08\n",
       "17   2017      9  15283011.46  2.749272e+08\n",
       "18   2018      9     93230.34  2.750204e+08\n",
       "19   2016     10   1240900.08  2.762613e+08\n",
       "20   2017     10  16373235.47  2.926345e+08\n",
       "21   2018     10     12383.07  2.926469e+08\n",
       "22   2017     11  25092538.79  3.177395e+08\n",
       "23   2016     12       412.02  3.177399e+08\n",
       "24   2017     12  18446431.08  3.361863e+08"
      ]
     },
     "execution_count": 235,
     "metadata": {},
     "output_type": "execute_result"
    }
   ],
   "source": [
    "query=\"\"\" select years,months,payment,sum(payment) over(order by months,years) as cum_sum from \n",
    "(select month(orders.order_purchase_timestamp) as months,year(orders.order_purchase_timestamp) as years,\n",
    "round(sum(payments.payment_value),2) as payment from orders join payments on orders.order_id=payments.order_id group by years,months\n",
    "order by years,months) as a \"\"\"\n",
    "cur.execute(query)\n",
    "data=cur.fetchall()\n",
    "df=pd.DataFrame(data,columns=['years','monts','payment','cum_sum'])\n",
    "df"
   ]
  },
  {
   "cell_type": "markdown",
   "id": "00a64941-df33-46ce-8d98-546eeb34cb50",
   "metadata": {},
   "source": [
    "# Calculate the year-over-year growth rate of total sales."
   ]
  },
  {
   "cell_type": "code",
   "execution_count": 53,
   "id": "b70b6910-de86-4303-95a4-cdbb468d9274",
   "metadata": {},
   "outputs": [
    {
     "data": {
      "text/html": [
       "<div>\n",
       "<style scoped>\n",
       "    .dataframe tbody tr th:only-of-type {\n",
       "        vertical-align: middle;\n",
       "    }\n",
       "\n",
       "    .dataframe tbody tr th {\n",
       "        vertical-align: top;\n",
       "    }\n",
       "\n",
       "    .dataframe thead th {\n",
       "        text-align: right;\n",
       "    }\n",
       "</style>\n",
       "<table border=\"1\" class=\"dataframe\">\n",
       "  <thead>\n",
       "    <tr style=\"text-align: right;\">\n",
       "      <th></th>\n",
       "      <th>year</th>\n",
       "      <th>total_sale</th>\n",
       "      <th>yoy % growth</th>\n",
       "    </tr>\n",
       "  </thead>\n",
       "  <tbody>\n",
       "    <tr>\n",
       "      <th>0</th>\n",
       "      <td>2016</td>\n",
       "      <td>2.137044e+06</td>\n",
       "      <td>NaN</td>\n",
       "    </tr>\n",
       "    <tr>\n",
       "      <th>1</th>\n",
       "      <td>2017</td>\n",
       "      <td>2.609909e+08</td>\n",
       "      <td>12112.703759</td>\n",
       "    </tr>\n",
       "    <tr>\n",
       "      <th>2</th>\n",
       "      <td>2018</td>\n",
       "      <td>3.131915e+08</td>\n",
       "      <td>20.000924</td>\n",
       "    </tr>\n",
       "  </tbody>\n",
       "</table>\n",
       "</div>"
      ],
      "text/plain": [
       "   year    total_sale  yoy % growth\n",
       "0  2016  2.137044e+06           NaN\n",
       "1  2017  2.609909e+08  12112.703759\n",
       "2  2018  3.131915e+08     20.000924"
      ]
     },
     "execution_count": 53,
     "metadata": {},
     "output_type": "execute_result"
    }
   ],
   "source": [
    "query=\"\"\" with a as(select year(o.order_purchase_timestamp) years, round(sum(p.payment_value),2) total_sale from orders o join payments p\n",
    "on o.order_id=p.order_id group by years) \n",
    "select years,total_sale,((total_sale-lag(total_sale,1) over(order by years))/lag(total_sale,1)over(order by years))*100 as\n",
    "YoY_growth_rate from a \"\"\"\n",
    "cur.execute(query)\n",
    "data=cur.fetchall()\n",
    "df=pd.DataFrame(data,columns=['year','total_sale','yoy % growth'])\n",
    "df"
   ]
  },
  {
   "cell_type": "markdown",
   "id": "f3bd0513-6864-4b60-a3af-bdb351bfa3bb",
   "metadata": {},
   "source": [
    "# Calculate the retention rate of customers, defined as the percentage of customers who make another purchase within6 months of their first purchase."
   ]
  },
  {
   "cell_type": "code",
   "execution_count": 34,
   "id": "5cad5a26-94cc-429c-8718-24f33230a21e",
   "metadata": {},
   "outputs": [
    {
     "data": {
      "text/html": [
       "<div>\n",
       "<style scoped>\n",
       "    .dataframe tbody tr th:only-of-type {\n",
       "        vertical-align: middle;\n",
       "    }\n",
       "\n",
       "    .dataframe tbody tr th {\n",
       "        vertical-align: top;\n",
       "    }\n",
       "\n",
       "    .dataframe thead th {\n",
       "        text-align: right;\n",
       "    }\n",
       "</style>\n",
       "<table border=\"1\" class=\"dataframe\">\n",
       "  <thead>\n",
       "    <tr style=\"text-align: right;\">\n",
       "      <th></th>\n",
       "      <th>0</th>\n",
       "    </tr>\n",
       "  </thead>\n",
       "  <tbody>\n",
       "    <tr>\n",
       "      <th>0</th>\n",
       "      <td>None</td>\n",
       "    </tr>\n",
       "  </tbody>\n",
       "</table>\n",
       "</div>"
      ],
      "text/plain": [
       "      0\n",
       "0  None"
      ]
     },
     "execution_count": 34,
     "metadata": {},
     "output_type": "execute_result"
    }
   ],
   "source": [
    "query=\"\"\"with a as(select customers.customer_id,min(orders.order_purchase_timestamp)\n",
    "first_order from customers join orders on customers.customer_id=orders.customer_id\n",
    "group by customers.customer_id),\n",
    "b as(select a.customer_id,count(distinct orders.order_purchase_timestamp) next_order\n",
    "from a join orders on orders.customer_id=a.customer_id \n",
    "and orders.order_purchase_timestamp > first_order\n",
    "and orders.order_purchase_timestamp < date_add(first_order,interval 6 month)\n",
    "group by a.customer_id)\n",
    "select 100*(count(distinct a.customer_id)/count(distinct b.customer_id)) from a\n",
    "left join b on a.customer_id=b.customer_id ;   \"\"\"\n",
    "cur.execute(query)\n",
    "data=cur.fetchall()\n",
    "df=pd.DataFrame(data)\n",
    "df"
   ]
  },
  {
   "cell_type": "markdown",
   "id": "641dc6b3-d499-4ed1-84f8-cfb59ec1d5f0",
   "metadata": {},
   "source": [
    "#  Identify the top 3 customers who spent the most money in each year"
   ]
  },
  {
   "cell_type": "code",
   "execution_count": 13,
   "id": "be45e84e-deb0-40cb-858b-1836e8bb3124",
   "metadata": {},
   "outputs": [
    {
     "data": {
      "image/png": "[encoded data removed]",
      "text/plain": [
       "<Figure size 640x480 with 1 Axes>"
      ]
     },
     "metadata": {},
     "output_type": "display_data"
    }
   ],
   "source": [
    "query=\"\"\" select customer_id,years,payment,d_rank from\n",
    "(select orders.customer_id,sum(payments.payment_value) as payment,year(orders.order_purchase_timestamp) as years \n",
    ",dense_rank() over(partition by year(orders.order_purchase_timestamp) order by sum(payments.payment_value) desc) as d_rank\n",
    "from orders join payments\n",
    "on orders.order_id=payments.order_id group by  customer_id,years) as a where d_rank<=3 \"\"\"\n",
    "cur.execute(query)\n",
    "data=cur.fetchall()\n",
    "df=pd.DataFrame(data,columns=['customer_id','year','payment','d_rank'])\n",
    "df\n",
    "sns.barplot(x='customer_id',y='payment', data=df, hue='year')\n",
    "plt.xticks(rotation=90)\n",
    "plt.show()"
   ]
  },
  {
   "cell_type": "code",
   "execution_count": null,
   "id": "7fa50a4e-986e-4e97-8225-be4ec1d47b10",
   "metadata": {},
   "outputs": [],
   "source": []
  }
 ],
 "metadata": {
  "kernelspec": {
   "display_name": "Python [conda env:base] *",
   "language": "python",
   "name": "conda-base-py"
  },
  "language_info": {
   "codemirror_mode": {
    "name": "ipython",
    "version": 3
   },
   "file_extension": ".py",
   "mimetype": "text/x-python",
   "name": "python",
   "nbconvert_exporter": "python",
   "pygments_lexer": "ipython3",
   "version": "3.12.7"
  }
 },
 "nbformat": 4,
 "nbformat_minor": 5
}
